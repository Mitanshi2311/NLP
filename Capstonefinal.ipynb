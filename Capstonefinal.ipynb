{
 "cells": [
  {
   "cell_type": "code",
   "execution_count": 2,
   "metadata": {},
   "outputs": [],
   "source": [
    "import pytesseract\n",
    "pytesseract.pytesseract.tesseract_cmd=r'C:\\\\Program Files\\\\Tesseract-OCR\\\\tesseract.exe'\n",
    "import cv2\n",
    "import numpy as np\n",
    "import PyPDF2 \n",
    "import textract\n",
    "from nltk.corpus import stopwords\n",
    "encoding = 'utf-8'\n"
   ]
  },
  {
   "cell_type": "code",
   "execution_count": 3,
   "metadata": {},
   "outputs": [],
   "source": [
    "def text_extraction(filename):\n",
    "\n",
    "    pdfFileObj = open(filename,'rb')\n",
    "    #The pdfReader variable is a readable object that will be parsed.\n",
    "    pdfReader = PyPDF2.PdfFileReader(pdfFileObj)\n",
    "    #Discerning the number of pages will allow us to parse through all the pages.\n",
    "    num_pages = pdfReader.numPages\n",
    "    count = 0\n",
    "    text = \"\"\n",
    "    #The while loop will read each page.\n",
    "    while count < num_pages:\n",
    "        pageObj = pdfReader.getPage(count)\n",
    "        count +=1\n",
    "        text += pageObj.extractText()\n",
    "    #This if statement exists to check if the above library returned words. It's done because PyPDF2 cannot read scanned files.\n",
    "    if text != \"\":\n",
    "        text = text\n",
    "    #If the above returns as False, we run the OCR library textract to #convert scanned/image based PDF files into text.\n",
    "    else:\n",
    "        text = textract.process(filename, method='tesseract', language='eng')\n",
    "        \n",
    "    #converting bytes to string\n",
    "    extracted_text = text.decode(encoding)\n",
    "    return(extracted_text)\n",
    "    \n",
    "    \n",
    "\n"
   ]
  },
  {
   "cell_type": "code",
   "execution_count": 8,
   "metadata": {},
   "outputs": [
    {
     "data": {
      "text/plain": [
       "\"Lanier Document\\r\\n\\r\\nDocument Unique ID Status Transcribed on\\r\\n1060529 CHANGED 2019-12-13\\r\\nDictating Physician Attending RAD Oncologist Patient Referred By\\r\\nHamm, Caroline M. Hamm, Caroline M. Rieder, Scott\\r\\nPrimary Care Physician Attending MED Oncologist\\r\\n\\r\\nChand, Pavanjeet Hamm, Caroline M.\\r\\n\\r\\nType\\r\\nConsultation\\r\\n\\r\\n \\r\\n\\r\\n——eE] Gee Patient MR\\r\\nDOB: J Encounter: aaa\\r\\nHealthcard <a\\r\\n\\r\\nPhone De ver —ceerard\\r\\nAttending RAD ONE: Caroline M. Hamm, M.D., F.R.C.P.(C.)\\r\\n\\r\\nAttending MED ONC: Caroline M. Hamm, M.D., F.R.C.P.(C.)\\r\\nFamily Physician: Pavanjeet Chand, M.D., C.C.F.P.\\r\\nNPR Physician: Scott Rieder, M.D.\\r\\n\\r\\n \\r\\n\\r\\nDICTATED BY: Caroline M. Hamm, M.D., F.R.C.P.(C.)\\r\\nCOPY TO: Scott Rieder, M.D.\\r\\nPavanjeet Chand, M.D., C.C.F.P.\\r\\n\\r\\nDATE OF VISIT: December 13, 2019\\r\\n\\r\\nCONSULTATION\\r\\nREVISED December 18, 2019 08:54 pm\\r\\n\\r\\nClarissa is a very pleasant 55 year old female seen today in clinic\\r\\n\\r\\nwith a diagnosis of estrogen receptor positive breast cancer. She is\\r\\nhere for consideration of neoadjuvant chemotherapy. Her disease was\\r\\nidentified on screening mammogram that she has been getting routinely.\\r\\nOn September 23, 2019 there were enlarged lymph nodes in the right\\r\\nbreast as right axilla. No new lesion was demonstrated in the right\\r\\nbreast, but further thickening around the nipple was identified\\r\\n\\r\\ncompared to previous. No left breast or left axillary adenopathy. A\\r\\nbiopsy of the right axillary lymph nodes were done first and these were\\r\\ncompatible with metastatic adenocarcinoma. The tumor was found to be\\r\\nstrongly estrogen receptor positive at 90%, progesterone receptor\\r\\npositive at 5%, and HER2 was not done.\\r\\n\\r\\nA biopsy of the breast was done on October 30, 2019 and this revealed\\r\\nintra lymphatic carcinoma only with a tumor emboli in the lymphatic\\r\\nchannel. No defined mass was identified on biopsy despite multiple\\r\\ncores performed. Left axillary lymph node was biopsied and that was\\r\\nnegative.\\r\\n\\r\\nShe does have staging booked. She has a CT scan booked for tonight,\\r\\nbone scan booked for December 23, 2019, and MUGA booked for Tuesday.\\r\\n\\r\\nPAST MEDICAL HISTORY\\r\\n\\r\\n \\r\\n\\x0cPositive for only diabetes mellitus, She is on Synjardy for that\\r\\n12.5/100 mg daily, Citalopram 20 mg daily, and Ativan 0.5 mg p.o b.i.d.\\r\\n\\r\\nALLERGIES\\r\\nShe has an allergy to sulfa that causes a rash and hives and shel!\\r\\nfish.\\r\\n\\r\\nShe goes to Shoppers' Drug Mart in Amherstburg and has Green Shield\\r\\ninsurance.\\r\\n\\r\\nShe did see Dr. Scott Rieder who has recommended neoadjuvant\\r\\nchemotherapy.\\r\\n\\r\\nPAST MEDICAL HISTORY\\r\\n\\r\\n1. Diabetes mellitus.\\r\\n\\r\\n2. Prior TAH/BSO in 2008.\\r\\n\\r\\n3. Seasonal affective disorder. Has not been using her lamp.\\r\\n\\r\\n4, She has no MI, angina, stroke, seizure, or hypertension and no\\r\\ncolitis.\\r\\n\\r\\nMenopausal history: Oophorectomy 12 years ago.\\r\\n\\r\\nSOCIAL HISTORY\\r\\n\\r\\nShe has been married nine years. She has one seven year old son and\\r\\nthey are considering adoption. She is a non-smoker and drinks alcohol\\r\\noccasionally.\\r\\n\\r\\nREVIEW OF SYSTEMS\\r\\n\\r\\nShe has hot flashes. She has been having diarrhea for the last five\\r\\ndays, but ithas been getting better after the last couple of days.\\r\\nNo other Gl, GU, respiratory or neurological complaints.\\r\\n\\r\\nFAMILY HISTORY\\r\\nNon-contributory.\\r\\n\\r\\nWORK HISTORY\\r\\nShe is a homemaker and worked in ECE.\\r\\n\\r\\nPHYSICAL EXAMINATION\\r\\n\\r\\nOn examination height is 1.71 meters, weight is 80.3 kg, blood pressure\\r\\nis 121/81, O2 saturation is 98% on room air. Pulse is 84 and\\r\\ntemperature is 36.3. Lungs are clear, heart sounds normal. Abdominal\\r\\nexamination is unremarkable. | cannot palpate the right axillary\\r\\nadenopathy. | can palpate a mass at 9 o'clock in the right breast that\\r\\nmeasures 4 x 3 cm that is at the same location of her biopsy, | am not\\r\\nsure if it is a hematoma or cancer.\\r\\n\\r\\nIMPRESSION\\r\\n\\r\\n“Qiiiie has at least stage 2 breast cancer with lymph node positive\\r\\ndisease. Dr. Allevato is running the HER2 status on it right now.\\r\\nSince we do not have that we will move ahead with dose dense AC\\r\\nfollowed by weekly Taxol chemotherapy and that plan will change based\\r\\non if the HER2 is positive.\\r\\n\\r\\n  \\r\\n\\r\\nWe discussed the adverse events associated with chemotherapy that\\r\\ninclude alopecia, mucositis, nausea and vomiting as well as\\r\\n\\r\\n \\r\\n\\r\\n \\r\\n\\x0ccardiomyopathy, neuropathy, and febrile neutropenia. She has written\\r\\nconsent to move ahead with chemotherapy. | will see her back in clinic\\r\\ntwo weeks after her first chemotherapy to discuss the next steps. We\\r\\n\\r\\ndid give her prescriptions today as well. | have given her Aprepitant\\r\\n\\r\\nfor three days to take 2 mg on the day of chemotherapy and\\r\\nDexamethasone to take 12 mg on the day of chemotherapy and then 8 mg\\r\\ndaily for two days after that. She is diabetic and so we will have to\\r\\n\\r\\nwarn her that steroids can increase her sugars and she will have to\\r\\n\\r\\nwatch for signs and symptoms of hyperglycemia. We have also given her\\r\\nscripts for wigs and Grastofil and Duicolax and Lactulose for\\r\\nconstipation. She signed consent and is willing to move ahead and will\\r\\nstart her first chemotherapy on Thursday December 18, 2019.\\r\\n\\r\\nELECTRONICALLY AUTHENTICATED\\r\\nCaroline M. Hamm, M.D., F.R.C.P.(C.)\\r\\n\\r\\nCMHAtesHes\\r\\n\\r\\nDD: December 13, 2019 TD: 03:24 pm\\r\\nDT: December 13, 2019 TT: 07:54 pm\\r\\nJob: 199158\\r\\n\\r\\nDoc ID: 1060529\\r\\n\\r\\nCreated by: WRCC System Agent on 13-Dec-2019 at 08:36 PM\\r\\n[End of document]\\r\\n\\r\\nwag/12/13/2019\\r\\n\\r\\n \\r\\n\\x0c \\r\\n\\r\\n \\r\\n\\r\\n \\r\\n\\x0c \\r\\n\\r\\n \\r\\n\\r\\n \\r\\n\\r\\n \\r\\n\\r\\n \\r\\n\\x0c \\r\\n\\r\\nFINKE -ERTAGLOGY REPORT\\r\\n\\r\\n  \\r\\n \\r\\n \\r\\n\\r\\nos (Sergi:\\r\\nResult Bhi Tus\\r\\n\\r\\n \\r\\n\\r\\n \\r\\n\\r\\n \\r\\n\\r\\n \\r\\n\\x0c-BINDSSCR, REGIONAL HOSPITAL ~ NETROFOLITAN CANeus\\r\\n\\r\\n \\r\\n\\r\\n \\r\\n\\r\\n    \\r\\n\\r\\nal tastes tony\\r\\n\\r\\n \\r\\n\\r\\n   \\r\\n\\x0c \\r\\n\\r\\n \\r\\n\\r\\nBAD OF REPORT\\r\\n\\r\\n \\r\\n\\x0ca BOSEt TAL < . UELLST OE cAMaus:\\r\\nSt re Ri\\r\\n\\r\\n \\r\\n\\r\\nryt awsess f1n2d colleszian\\r\\n\\r\\nComparison:\\r\\n\\r\\n   \\r\\n\\r\\nVitvesourd sbteindd darlisk the sare:\\r\\n\\r\\nLOState &\\r\\n\\r\\nemarkable.\\r\\naid ce ree OF bowel: Sma!\\r\\n\\r\\n \\r\\n\\r\\n \\r\\n\\x0c \\r\\n\\r\\n \\r\\n\\r\\n \\r\\n\\x0c\""
      ]
     },
     "execution_count": 8,
     "metadata": {},
     "output_type": "execute_result"
    }
   ],
   "source": [
    "t1 = text_extraction(\"NLP.pdf\")\n",
    "t1"
   ]
  },
  {
   "cell_type": "code",
   "execution_count": 11,
   "metadata": {},
   "outputs": [],
   "source": [
    "import re\n",
    "import nltk\n",
    "from spellchecker import SpellChecker\n",
    "from nltk.tokenize import word_tokenize"
   ]
  },
  {
   "cell_type": "code",
   "execution_count": 12,
   "metadata": {},
   "outputs": [],
   "source": [
    "spell = SpellChecker()\n",
    "spell.word_frequency.load_text_file('spellfinal1.txt')\n",
    "punc = '''!()-[]{};\"\\,|-<>?@#$%^&*_~'''\n",
    "alphabets= \"([A-Za-z])\"\n",
    "numbers = \"([0-9])\"\n",
    "dict = {}\n",
    "t2 = []"
   ]
  },
  {
   "cell_type": "code",
   "execution_count": 15,
   "metadata": {},
   "outputs": [],
   "source": [
    "def clean_string(text):\n",
    "    text = text.replace(\"\\r\", \"\")\n",
    "    text = text.replace(\"\\n\", \" \")\n",
    "    #text = re.sub(\"\\n\",\" \",text)\n",
    "    text = text.replace(\"\\x0c\",\"\")\n",
    "    text = \"\".join([char for char in text if char not in punc])\n",
    "    text = re.sub(alphabets + \"[.]\" + alphabets + \"[.]\",\"\",text)\n",
    "    text = re.sub( alphabets+\"[.]\"  ,\" \",text)\n",
    "    #text = re.sub(\" \"+Alp+\" \",\" \", text)\n",
    "    text = re.sub(\" \"+numbers+\"[.]\"+\" \",\"\",text)\n",
    "    text = \" \".join(text.split())\n",
    "    word_t1 = nltk.word_tokenize(text)\n",
    "    tokens = [token.lower() for token in word_t1]\n",
    "\n",
    "    misspelled = spell.unknown(tokens)\n",
    "\n",
    "    for word in misspelled:\n",
    "        corrected = spell.correction(word) \n",
    "        dict[word] = corrected\n",
    "\n",
    "    text = text.lower()\n",
    "    text = text.split()\n",
    "    t2 = []\n",
    "    for wrd in text:\n",
    "        t2.append(dict.get(wrd, wrd))\n",
    "      \n",
    "    t2 = ' '.join(t2)\n",
    "    return(t2)\n"
   ]
  },
  {
   "cell_type": "code",
   "execution_count": 16,
   "metadata": {},
   "outputs": [],
   "source": [
    "t3 = clean_string(t1)"
   ]
  },
  {
   "cell_type": "code",
   "execution_count": 17,
   "metadata": {},
   "outputs": [
    {
     "data": {
      "text/plain": [
       "\"lander document document unique id status transcribed on 1060529 changed 20191213 dictating physician attending rad oncologist patient referred by hamm caroline hamm caroline rieder scott primary care physician attending med oncologist chand pavanjeet hamm caroline type consultation see gee patient mr dob: i encounter: aka healthcare a phone de ver —ceerard attending rad one: caroline hamm attending med onc: caroline hamm family physician: pavanjeet chand nor physician: scott rieder dictated by: caroline hamm copy to: scott rieder pavanjeet chand date of visit: december 13 2019 consultation revised december 18 2019 08:54 pm clarissa is a very pleasant 55 year old female seen today in clinic with a diagnosis of estrogen receptor positive breast chance she is here for consideration of neoadjuvant chemotherapy her disease was identified on screening mammogram that she has been getting routine on september 23 2019 there were enlarged lymph nodes in the right breast as right axial no new lesion was demonstrated in the right breast but further thickening around the nipple was identified compared to previous no left breast or left axillary adenopathy a biopsy of the right axillary lymph nodes were done first and these were compatible with metastatic adenocarcinoma the tumor was found to be strongly estrogen receptor positive at 90 progesterone receptor positive at 5 and her was not don a biopsy of the breast was done on october 30 2019 and this revealed intra lymphatic carcinoma only with a tumor emboli in the lymphatic change no defined mass was identified on biopsy despite multiple cores perform left axillary lymph node was biopsied and that was negative she does have staging broke she has a it scan booked for tonight bone scan booked for december 23 2019 and muga booked for tuesday past medical history positive for only diabetes mellitus she is on synjardy for that 12.5/100 mg daily citalopram 20 mg daily and ativan 0.5 mg o allergies she has an allergy to sulfa that causes a rash and hives and shel fis she goes to shoppers' drug mart in amherstburg and has green shield insurance she did see d scott rieder who has recommended neoadjuvant chemotherapy past medical history diabetes mellitus prior tahbso in 2008. seasonal affective disorder has not been using her lam 4 she has no mi angina stroke seizure or hypertension and no colitis menopausal history: oophorectomy 12 years ag social history she has been married nine year she has one seven year old son and they are considering adoption she is a nonsmoker and drinks alcohol occasionally review of systems she has hot flash she has been having diarrhea for the last five days but itwas been getting better after the last couple of day no other go gu respiratory or neurological complaint family history noncontributor work history she is a homemaker and worked in ec physical examination on examination height is 1.71 meters weight is 80.3 kg blood pressure is 121/81 o2 saturation is 98 on room ai pulse is 84 and temperature is 36.3. lungs are clear heart sounds norma abdominal examination is unremarkable cannot palpate the right axillary adenopathy can palpate a mass at 9 o'clock in the right breast that measures 4 x 3 cm that is at the same location of her biopsy am not sure if it is a hematoma or chance impression “qiiiie has at least stage 2 breast cancer with lymph node positive disease d alleviate is running the her status on it right no since we do not have that we will move ahead with dose dense ac followed by weekly taxol chemotherapy and that plan will change based on if the her is positive we discussed the adverse events associated with chemotherapy that include alopecia mucositis nausea and vomiting as well as cardiomyopathy neuropathy and febrile neutropenic she has written consent to move ahead with chemotherapy will see her back in clinic two weeks after her first chemotherapy to discuss the next step we did give her prescriptions today as wel have given her aprepitant for three days to take 2 mg on the day of chemotherapy and dexamethasone to take 12 mg on the day of chemotherapy and then 8 mg daily for two days after tha she is diabetic and so we will have to warn her that steroids can increase her sugars and she will have to watch for signs and symptoms of hyperglycemic we have also given her scripts for wigs and grastofil and dulcolax and lactulose for constipation she signed consent and is willing to move ahead and will start her first chemotherapy on thursday december 18 2019. electronically authenticated caroline hamm cmhateshes dd: december 13 2019 td: 03:24 pm dt: december 13 2019 tt: 07:54 pm job: 199158 doc id: 1060529 created by: wrap system agent on 13dec2019 at 08:36 pm end of document wag/12/13/2019 fine ertaglogy report os sergi: result bhi tus bindsscr regional hospital metropolitan canes al tastes tony bad of report a beset tal . tells oe camaus: st re ri rat assess find colleszian comparison: vitvesourd sbteindd darling the sare: costate remarkable aid ce ree of bowel: sma\""
      ]
     },
     "execution_count": 17,
     "metadata": {},
     "output_type": "execute_result"
    }
   ],
   "source": [
    "t3"
   ]
  },
  {
   "cell_type": "code",
   "execution_count": 18,
   "metadata": {},
   "outputs": [],
   "source": [
    "from gensim.parsing.preprocessing import remove_stopwords\n",
    "def stopwords_removal(text):\n",
    "    filtered_sentence = remove_stopwords(text)\n",
    "    return(filtered_sentence)"
   ]
  },
  {
   "cell_type": "code",
   "execution_count": 19,
   "metadata": {},
   "outputs": [],
   "source": [
    "filt_text = stopwords_removal(t3)"
   ]
  },
  {
   "cell_type": "code",
   "execution_count": 20,
   "metadata": {},
   "outputs": [],
   "source": [
    "import spacy\n",
    "from collections import Counter\n",
    "from string import punctuation\n",
    "from spacy.lang.en.stop_words import STOP_WORDS\n",
    "nlp = spacy.load(\"en_core_web_lg\")"
   ]
  },
  {
   "cell_type": "code",
   "execution_count": 21,
   "metadata": {},
   "outputs": [],
   "source": [
    "def top_sentence(text, limit):\n",
    "    keyword = []\n",
    "    pos_tag = ['PROPN', 'ADJ', 'NOUN', 'VERB']\n",
    "    doc = nlp(text.lower())\n",
    "    for token in doc:\n",
    "        if(token.text in nlp.Defaults.stop_words or token.text in punctuation):\n",
    "            continue\n",
    "        if(token.pos_ in pos_tag):\n",
    "            keyword.append(token.text)\n",
    "    \n",
    "    freq_word = Counter(keyword)\n",
    "    max_freq = Counter(keyword).most_common(1)[0][1]\n",
    "    for w in freq_word:\n",
    "        freq_word[w] = (freq_word[w]/max_freq)\n",
    "        \n",
    "    sent_strength={}\n",
    "    for sent in doc.sents:\n",
    "        for word in sent:\n",
    "            if word.text in freq_word.keys():\n",
    "                if sent in sent_strength.keys():\n",
    "                    sent_strength[sent]+=freq_word[word.text]\n",
    "                else:\n",
    "                    sent_strength[sent]=freq_word[word.text]\n",
    "    \n",
    "    summary = []\n",
    "    \n",
    "    sorted_x = sorted(sent_strength.items(), key=lambda kv: kv[1], reverse=True)\n",
    "    \n",
    "    counter = 0\n",
    "    for i in range(len(sorted_x)):\n",
    "        summary.append(str(sorted_x[i][0]).capitalize())\n",
    "\n",
    "        counter += 1\n",
    "        if(counter >= limit):\n",
    "            break\n",
    "            \n",
    "    return ' '.join(summary)"
   ]
  },
  {
   "cell_type": "code",
   "execution_count": 25,
   "metadata": {},
   "outputs": [
    {
     "data": {
      "text/plain": [
       "'Clarissa is a very pleasant 55 year old female seen today in clinic with a diagnosis of estrogen receptor positive breast chance she is here for consideration of neoadjuvant chemotherapy her disease was identified on screening mammogram that she has been getting routine on september 23 2019 there were enlarged lymph nodes in the right breast as right axial no new lesion was demonstrated in the right breast but further thickening around the nipple was identified compared to previous no left breast or left axillary adenopathy a biopsy of the right axillary lymph nodes were done first and these were compatible with metastatic adenocarcinoma the tumor was found to be strongly estrogen receptor positive at 90 progesterone receptor positive at 5 and her was not don a biopsy of the breast was done on october 30 2019 and this revealed intra lymphatic carcinoma only with a tumor emboli in the lymphatic change no defined mass was identified on biopsy despite multiple cores perform left axillary lymph node was biopsied and that was negative she does have staging broke she has a it scan booked for tonight bone scan booked for december 23 2019 and muga booked for tuesday past medical history positive for only diabetes mellitus she is on synjardy for that 12.5/100 mg daily citalopram 20 mg daily and ativan 0.5 mg o allergies she has an allergy to sulfa that causes a rash and hives and'"
      ]
     },
     "execution_count": 25,
     "metadata": {},
     "output_type": "execute_result"
    }
   ],
   "source": [
    "spacy = top_sentence(t3, 1)\n",
    "spacy"
   ]
  },
  {
   "cell_type": "code",
   "execution_count": 26,
   "metadata": {},
   "outputs": [],
   "source": [
    "from gensim.summarization import keywords\n",
    "from gensim.summarization.summarizer import summarize,summarize_corpus"
   ]
  },
  {
   "cell_type": "code",
   "execution_count": 27,
   "metadata": {},
   "outputs": [],
   "source": [
    "def gensim_sum(text):\n",
    "    gensim_keywords = keywords(text, lemmatize=True, scores=True, ratio=0.30)\n",
    "    gensim_text_rank = summarize(text,ratio=0.20)\n",
    "    return(gensim_text_rank,'')"
   ]
  },
  {
   "cell_type": "code",
   "execution_count": 28,
   "metadata": {},
   "outputs": [
    {
     "data": {
      "text/plain": [
       "(\"lander document document unique id status transcribed 1060529 changed 20191213 dictating physician attending rad oncologist patient referred hamm caroline hamm caroline rieder scott primary care physician attending med oncologist chand pavanjeet hamm caroline type consultation gee patient mr dob: encounter: aka healthcare phone ver —ceerard attending rad one: caroline hamm attending med onc: caroline hamm family physician: pavanjeet chand physician: scott rieder dictated by: caroline hamm copy to: scott rieder pavanjeet chand date visit: december 13 2019 consultation revised december 18 2019 08:54 pm clarissa pleasant 55 year old female seen today clinic diagnosis estrogen receptor positive breast chance consideration neoadjuvant chemotherapy disease identified screening mammogram getting routine september 23 2019 enlarged lymph nodes right breast right axial new lesion demonstrated right breast thickening nipple identified compared previous left breast left axillary adenopathy biopsy right axillary lymph nodes compatible metastatic adenocarcinoma tumor strongly estrogen receptor positive 90 progesterone receptor positive 5 biopsy breast october 30 2019 revealed intra lymphatic carcinoma tumor emboli lymphatic change defined mass identified biopsy despite multiple cores perform left axillary lymph node biopsied negative staging broke scan booked tonight bone scan booked december 23 2019 muga booked tuesday past medical history positive diabetes mellitus synjardy 12.5/100 mg daily citalopram 20 mg daily ativan 0.5 mg o allergies allergy sulfa causes rash hives shel fis goes shoppers' drug mart amherstburg green shield insurance d scott rieder recommended neoadjuvant chemotherapy past medical history diabetes mellitus prior tahbso 2008.\",\n",
       " '')"
      ]
     },
     "execution_count": 28,
     "metadata": {},
     "output_type": "execute_result"
    }
   ],
   "source": [
    "gensim = gensim_sum(filt_text)\n",
    "gensim"
   ]
  },
  {
   "cell_type": "code",
   "execution_count": null,
   "metadata": {},
   "outputs": [],
   "source": []
  }
 ],
 "metadata": {
  "kernelspec": {
   "display_name": "Python 3",
   "language": "python",
   "name": "python3"
  },
  "language_info": {
   "codemirror_mode": {
    "name": "ipython",
    "version": 3
   },
   "file_extension": ".py",
   "mimetype": "text/x-python",
   "name": "python",
   "nbconvert_exporter": "python",
   "pygments_lexer": "ipython3",
   "version": "3.7.9"
  }
 },
 "nbformat": 4,
 "nbformat_minor": 4
}
